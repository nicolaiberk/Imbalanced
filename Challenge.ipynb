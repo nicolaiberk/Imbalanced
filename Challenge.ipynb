{
  "nbformat": 4,
  "nbformat_minor": 0,
  "metadata": {
    "colab": {
      "name": "Challenge.ipynb",
      "provenance": [],
      "collapsed_sections": [
        "Z8SJFe1nLqyW"
      ],
      "authorship_tag": "ABX9TyMq0hGizGVL5DJsPern6+Br",
      "include_colab_link": true
    },
    "kernelspec": {
      "name": "python3",
      "display_name": "Python 3"
    },
    "language_info": {
      "name": "python"
    }
  },
  "cells": [
    {
      "cell_type": "markdown",
      "metadata": {
        "id": "view-in-github",
        "colab_type": "text"
      },
      "source": [
        "<a href=\"https://colab.research.google.com/github/nicolaiberk/Imbalanced/blob/master/Challenge.ipynb\" target=\"_parent\"><img src=\"https://colab.research.google.com/assets/colab-badge.svg\" alt=\"Open In Colab\"/></a>"
      ]
    },
    {
      "cell_type": "markdown",
      "source": [
        "# Now, it's your turn! \n",
        "\n",
        "Together with your neighbor, you have 15 minutes to **design an algorithm that can detect happiness online**. The training data contains tweets with different emotions, your challenge is to find the happy ones. Apply what you have learned in the past hour (feel free to copy the code from the other script). The last two cells contain code to load the test data and assess your classifier's performance. The link to the training set will be sent to you after the fifteen minutes have passed. \n",
        "\n",
        "## **The best F1 score wins!!!**"
      ],
      "metadata": {
        "id": "RzohGALExp7J"
      }
    },
    {
      "cell_type": "code",
      "source": [
        "import pandas as pd\n",
        "import numpy as np\n",
        "\n",
        "tweets = pd.read_csv(\"https://www.dropbox.com/s/jrcv249tbsznwh7/train_balanced.csv?dl=1\")"
      ],
      "metadata": {
        "id": "s97CM3yrxpH8"
      },
      "execution_count": 44,
      "outputs": []
    },
    {
      "cell_type": "markdown",
      "source": [
        "# Assessment"
      ],
      "metadata": {
        "id": "Z8SJFe1nLqyW"
      }
    },
    {
      "cell_type": "code",
      "source": [
        "from sklearn.metrics import f1_score, recall_score, precision_score, accuracy_score\n",
        "def performance_report(y_test, y_pred):\n",
        "  print(\"Accuracy: \",  round(accuracy_score(y_test, y_pred), 3))\n",
        "  print(\"Recall: \",    round(recall_score(y_test, y_pred), 3))\n",
        "  print(\"Precision: \", round(precision_score(y_test, y_pred), 3))\n",
        "  print(\"F1: \",        round(f1_score(y_test, y_pred), 3))"
      ],
      "metadata": {
        "id": "QnvQrBSrLqWZ"
      },
      "execution_count": 53,
      "outputs": []
    },
    {
      "cell_type": "code",
      "execution_count": 54,
      "metadata": {
        "colab": {
          "base_uri": "https://localhost:8080/"
        },
        "id": "EsFU7Vm8xlgB",
        "outputId": "d102a143-1ee3-4ac0-8368-2ac287084966"
      },
      "outputs": [
        {
          "output_type": "stream",
          "name": "stdout",
          "text": [
            "Accuracy:  0.68\n",
            "Recall:  0.673\n",
            "Precision:  0.696\n",
            "F1:  0.684\n"
          ]
        }
      ],
      "source": [
        "test = pd.read_csv(\"\")\n",
        "X_test = vec.transform(test.content)\n",
        "y_test = test.happiness\n",
        "performance_report(y_test, classifier.predict(X_test))"
      ]
    }
  ]
}