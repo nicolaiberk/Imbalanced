{
  "nbformat": 4,
  "nbformat_minor": 0,
  "metadata": {
    "colab": {
      "name": "SMOTE.ipynb",
      "provenance": [],
      "collapsed_sections": [],
      "authorship_tag": "ABX9TyPOmfJ1U1ElGRiOOCyWbCA+",
      "include_colab_link": true
    },
    "kernelspec": {
      "name": "python3",
      "display_name": "Python 3"
    },
    "language_info": {
      "name": "python"
    }
  },
  "cells": [
    {
      "cell_type": "markdown",
      "metadata": {
        "id": "view-in-github",
        "colab_type": "text"
      },
      "source": [
        "<a href=\"https://colab.research.google.com/github/nicolaiberk/Imbalanced/blob/master/SMOTE.ipynb\" target=\"_parent\"><img src=\"https://colab.research.google.com/assets/colab-badge.svg\" alt=\"Open In Colab\"/></a>"
      ]
    },
    {
      "cell_type": "markdown",
      "source": [
        "# Synthetic Minority Oversampling TEchnique - SMOTE"
      ],
      "metadata": {
        "id": "t4Wxmq4d7DG4"
      }
    },
    {
      "cell_type": "markdown",
      "source": [
        "One way to address imbalanced data problems is to generate additional artificial cases. For example. One method to do this is called **S**ynthetic **M**inority **O**versampling **Te**chnique - or short: **SMOTE**. The full paper can be found [here](https://arxiv.org/abs/1106.1813), a less technical explainer [here](https://www.analyticsvidhya.com/blog/2020/10/overcoming-class-imbalance-using-smote-techniques/) and the scikit-learn documentation on oversampling [here](https://imbalanced-learn.org/stable/over_sampling.html)."
      ],
      "metadata": {
        "id": "0yQ-aRJcc1uv"
      }
    },
    {
      "cell_type": "markdown",
      "source": [
        "We start by importing the packages and loading the data. We use the same dataset of annotated tweets we used last time. We will use the `imblearn` package to implement SMOTE."
      ],
      "metadata": {
        "id": "Rq6QkKXterPD"
      }
    },
    {
      "cell_type": "code",
      "execution_count": 76,
      "metadata": {
        "id": "k7hq4zVE7AY-"
      },
      "outputs": [],
      "source": [
        "# oversample training samples for crossvalidation\n",
        "import pandas as pd\n",
        "\n",
        "# load relevant packages\n",
        "from sklearn.model_selection import train_test_split\n",
        "import numpy as np\n",
        "from sklearn.feature_extraction.text import CountVectorizer\n",
        "from sklearn.pipeline import Pipeline\n",
        "from sklearn.linear_model import LogisticRegression as LogReg\n",
        "from sklearn.metrics import accuracy_score, f1_score, recall_score, precision_score\n",
        "\n",
        "# import SMOTE package\n",
        "from imblearn.over_sampling import SMOTE\n",
        "\n",
        "tweets = pd.read_csv(\"https://www.dropbox.com/s/gv56nu1ptrp63ps/annotated_german_refugee_tweets.csv?dl=1\")"
      ]
    },
    {
      "cell_type": "markdown",
      "source": [
        "We select a random subsample of 2000 tweets, same as last time, and divide it into training and test set:"
      ],
      "metadata": {
        "id": "C1M5TZKAfnvP"
      }
    },
    {
      "cell_type": "code",
      "source": [
        "# generate a random sample of 2000 tweets\n",
        "rndsmpl = tweets.sample(n=2000,  random_state=42)\n",
        "\n",
        "# divide into training and test set\n",
        "X_train, X_test, y_train, y_test = train_test_split(\n",
        "    rndsmpl.text,\n",
        "    rndsmpl.annotation,\n",
        "    test_size=0.20,\n",
        "    random_state=42\n",
        ")\n",
        "X_train = np.array(X_train)\n",
        "X_test = np.array(X_test)\n",
        "\n",
        "print(f\"{sum(y_train)} positive cases out of a full set of {len(y_train)} in the training set ({sum(y_train)*100/len(y_train)}%).\")\n",
        "pd.Series(y_train).value_counts().plot(kind='bar', title='Class distribution in raw training set')"
      ],
      "metadata": {
        "colab": {
          "base_uri": "https://localhost:8080/",
          "height": 322
        },
        "id": "dgPuLa2JfnMf",
        "outputId": "b83ddbf1-2f80-4d9f-85bd-524a2fe9a5c5"
      },
      "execution_count": 77,
      "outputs": [
        {
          "output_type": "stream",
          "name": "stdout",
          "text": [
            "42.0 positive cases out of a full set of 1600 in the training set (2.625%).\n"
          ]
        },
        {
          "output_type": "execute_result",
          "data": {
            "text/plain": [
              "<matplotlib.axes._subplots.AxesSubplot at 0x7f9674088450>"
            ]
          },
          "metadata": {},
          "execution_count": 77
        },
        {
          "output_type": "display_data",
          "data": {
            "text/plain": [
              "<Figure size 432x288 with 1 Axes>"
            ],
            "image/png": "[encoded data removed]"
          },
          "metadata": {
            "needs_background": "light"
          }
        }
      ]
    },
    {
      "cell_type": "markdown",
      "source": [
        "# How does SMOTE work?"
      ],
      "metadata": {
        "id": "elaOgH4e4iJq"
      }
    },
    {
      "cell_type": "markdown",
      "source": [
        "Doesn't look great, huh? We could just undersample, meaning we drop cases from the majority class (in this cases tweets *not* about refugees) until we have a balanced data set. However, we would end up with **only 84** observations in our training set and would lose all the information from the remaining 1516 observations.\n",
        "\n",
        "SMOTE instead **over**samples the minority class \"by taking each minority class sample and introducing synthetic examples along the line segments joining any/all of the k minority class nearest neighbors\" (p.328). \n",
        "\n",
        "In English: We take one observation in the minority class (in this case tweets) and look for similar minority class observations using a *k-nearest-neighbors* approach (more on this approach [here](https://medium.com/towards-data-science/machine-learning-basics-with-the-k-nearest-neighbors-algorithm-6a6e71d01761)). For a random subset of these similar neighbors, we generate a synthetic observation somewhere in the middle between the original observation and the chosen neighbor (see visualisation below, shamelessly stolen from the scikit-learn documentation).\n",
        "\n",
        "![](https://imbalanced-learn.org/stable/_images/sphx_glr_plot_illustration_generation_sample_001.png)"
      ],
      "metadata": {
        "id": "ES9Su1RRgQQD"
      }
    },
    {
      "cell_type": "markdown",
      "source": [
        "# Application"
      ],
      "metadata": {
        "id": "uMeUqBub4uHp"
      }
    },
    {
      "cell_type": "markdown",
      "source": [
        "Enough theory, let's just see how this works! First, we need to transform our texts into numbers by translating them into a document-term-matrix. For simplicity, we use the simple count-based matrix here, but you might use tfidf or any other method that produces some number indicating the frequency of a word in a document as well."
      ],
      "metadata": {
        "id": "W1xw3p1UlW9E"
      }
    },
    {
      "cell_type": "code",
      "source": [
        "# define Vectorizer\n",
        "vec = CountVectorizer() # usually we would add some arguments here\n",
        "X_train_dtm = vec.fit_transform(X_train)"
      ],
      "metadata": {
        "id": "E79uE8LpmsW9"
      },
      "execution_count": 78,
      "outputs": []
    },
    {
      "cell_type": "markdown",
      "source": [
        "Now witness the beauty of simplicity:"
      ],
      "metadata": {
        "id": "w8Op-oZUnJ_t"
      }
    },
    {
      "cell_type": "code",
      "source": [
        "# resample with SMOTE ()\n",
        "X_resample, y_resample = SMOTE(sampling_strategy = 0.2).fit_resample(X_train_dtm, y_train)\n",
        "\n",
        "print(f\"{sum(y_resample)} positive cases out of a full set of {len(y_resample)} in the training set ({sum(y_resample)/len(y_resample)*100}%).\")\n",
        "pd.Series(y_resample).value_counts().plot(kind='bar', title='Class distribution in raw training set')"
      ],
      "metadata": {
        "colab": {
          "base_uri": "https://localhost:8080/",
          "height": 322
        },
        "id": "dDswDEg8gPnW",
        "outputId": "a3b67812-cf4d-4a5d-d477-a6627f0af161"
      },
      "execution_count": 79,
      "outputs": [
        {
          "output_type": "stream",
          "name": "stdout",
          "text": [
            "311.0 positive cases out of a full set of 1869 in the training set (16.63991439272338%).\n"
          ]
        },
        {
          "output_type": "execute_result",
          "data": {
            "text/plain": [
              "<matplotlib.axes._subplots.AxesSubplot at 0x7f9673b4be50>"
            ]
          },
          "metadata": {},
          "execution_count": 79
        },
        {
          "output_type": "display_data",
          "data": {
            "text/plain": [
              "<Figure size 432x288 with 1 Axes>"
            ],
            "image/png": "[encoded data removed]"
          },
          "metadata": {
            "needs_background": "light"
          }
        }
      ]
    },
    {
      "cell_type": "markdown",
      "source": [
        "![](https://media3.giphy.com/media/zIwIWQx12YNEI/giphy.gif?cid=ecf05e47yuqbrs13qjl921umf83eb1m4nhnpcstrc38zvcuk&rid=giphy.gif&ct=g)"
      ],
      "metadata": {
        "id": "FJrE3Skpnp8M"
      }
    },
    {
      "cell_type": "markdown",
      "source": [
        "# Performance"
      ],
      "metadata": {
        "id": "bUlUDh305Cal"
      }
    },
    {
      "cell_type": "markdown",
      "source": [
        "So now we turned our 84 cases into 623! Let's see how it performs:"
      ],
      "metadata": {
        "id": "WLInW20Elhuu"
      }
    },
    {
      "cell_type": "code",
      "source": [
        "# transform test set\n",
        "X_test_dtm = vec.transform(X_test) \n",
        "## note it's transform, not fit_transform, as we transform it into the same dtm as the training set\n",
        "\n",
        "# define and fit classifier\n",
        "lr = LogReg()\n",
        "lr.fit(X_resample, y_resample)\n",
        "\n",
        "# predict\n",
        "y_pred = lr.predict(X_test_dtm)\n",
        "\n",
        "print(\"Accuracy: \", accuracy_score(y_test, y_pred))\n",
        "print(\"Recall: \", round(recall_score(y_test, y_pred), 2))\n",
        "print(\"Precision: \", round(precision_score(y_test, y_pred), 2))\n",
        "print(\"F1: \", round(f1_score(y_test, y_pred), 2))\n",
        "pd.crosstab(y_test, y_pred)"
      ],
      "metadata": {
        "colab": {
          "base_uri": "https://localhost:8080/",
          "height": 214
        },
        "id": "kMnnyL_moUnb",
        "outputId": "495ecbdb-b4fc-4aa9-c52d-3ed99cb480ce"
      },
      "execution_count": 80,
      "outputs": [
        {
          "output_type": "stream",
          "name": "stdout",
          "text": [
            "Accuracy:  0.91\n",
            "Recall:  0.09\n",
            "Precision:  0.04\n",
            "F1:  0.05\n"
          ]
        },
        {
          "output_type": "execute_result",
          "data": {
            "text/plain": [
              "col_0       0.0  1.0\n",
              "annotation          \n",
              "0.0         363   26\n",
              "1.0          10    1"
            ],
            "text/html": [
              "\n",
              "  <div id=\"df-710d135d-9af7-405b-8d4f-43139e622133\">\n",
              "    <div class=\"colab-df-container\">\n",
              "      <div>\n",
              "<style scoped>\n",
              "    .dataframe tbody tr th:only-of-type {\n",
              "        vertical-align: middle;\n",
              "    }\n",
              "\n",
              "    .dataframe tbody tr th {\n",
              "        vertical-align: top;\n",
              "    }\n",
              "\n",
              "    .dataframe thead th {\n",
              "        text-align: right;\n",
              "    }\n",
              "</style>\n",
              "<table border=\"1\" class=\"dataframe\">\n",
              "  <thead>\n",
              "    <tr style=\"text-align: right;\">\n",
              "      <th>col_0</th>\n",
              "      <th>0.0</th>\n",
              "      <th>1.0</th>\n",
              "    </tr>\n",
              "    <tr>\n",
              "      <th>annotation</th>\n",
              "      <th></th>\n",
              "      <th></th>\n",
              "    </tr>\n",
              "  </thead>\n",
              "  <tbody>\n",
              "    <tr>\n",
              "      <th>0.0</th>\n",
              "      <td>363</td>\n",
              "      <td>26</td>\n",
              "    </tr>\n",
              "    <tr>\n",
              "      <th>1.0</th>\n",
              "      <td>10</td>\n",
              "      <td>1</td>\n",
              "    </tr>\n",
              "  </tbody>\n",
              "</table>\n",
              "</div>\n",
              "      <button class=\"colab-df-convert\" onclick=\"convertToInteractive('df-710d135d-9af7-405b-8d4f-43139e622133')\"\n",
              "              title=\"Convert this dataframe to an interactive table.\"\n",
              "              style=\"display:none;\">\n",
              "        \n",
              "  <svg xmlns=\"http://www.w3.org/2000/svg\" height=\"24px\"viewBox=\"0 0 24 24\"\n",
              "       width=\"24px\">\n",
              "    <path d=\"M0 0h24v24H0V0z\" fill=\"none\"/>\n",
              "    <path d=\"M18.56 5.44l.94 2.06.94-2.06 2.06-.94-2.06-.94-.94-2.06-.94 2.06-2.06.94zm-11 1L8.5 8.5l.94-2.06 2.06-.94-2.06-.94L8.5 2.5l-.94 2.06-2.06.94zm10 10l.94 2.06.94-2.06 2.06-.94-2.06-.94-.94-2.06-.94 2.06-2.06.94z\"/><path d=\"M17.41 7.96l-1.37-1.37c-.4-.4-.92-.59-1.43-.59-.52 0-1.04.2-1.43.59L10.3 9.45l-7.72 7.72c-.78.78-.78 2.05 0 2.83L4 21.41c.39.39.9.59 1.41.59.51 0 1.02-.2 1.41-.59l7.78-7.78 2.81-2.81c.8-.78.8-2.07 0-2.86zM5.41 20L4 18.59l7.72-7.72 1.47 1.35L5.41 20z\"/>\n",
              "  </svg>\n",
              "      </button>\n",
              "      \n",
              "  <style>\n",
              "    .colab-df-container {\n",
              "      display:flex;\n",
              "      flex-wrap:wrap;\n",
              "      gap: 12px;\n",
              "    }\n",
              "\n",
              "    .colab-df-convert {\n",
              "      background-color: #E8F0FE;\n",
              "      border: none;\n",
              "      border-radius: 50%;\n",
              "      cursor: pointer;\n",
              "      display: none;\n",
              "      fill: #1967D2;\n",
              "      height: 32px;\n",
              "      padding: 0 0 0 0;\n",
              "      width: 32px;\n",
              "    }\n",
              "\n",
              "    .colab-df-convert:hover {\n",
              "      background-color: #E2EBFA;\n",
              "      box-shadow: 0px 1px 2px rgba(60, 64, 67, 0.3), 0px 1px 3px 1px rgba(60, 64, 67, 0.15);\n",
              "      fill: #174EA6;\n",
              "    }\n",
              "\n",
              "    [theme=dark] .colab-df-convert {\n",
              "      background-color: #3B4455;\n",
              "      fill: #D2E3FC;\n",
              "    }\n",
              "\n",
              "    [theme=dark] .colab-df-convert:hover {\n",
              "      background-color: #434B5C;\n",
              "      box-shadow: 0px 1px 3px 1px rgba(0, 0, 0, 0.15);\n",
              "      filter: drop-shadow(0px 1px 2px rgba(0, 0, 0, 0.3));\n",
              "      fill: #FFFFFF;\n",
              "    }\n",
              "  </style>\n",
              "\n",
              "      <script>\n",
              "        const buttonEl =\n",
              "          document.querySelector('#df-710d135d-9af7-405b-8d4f-43139e622133 button.colab-df-convert');\n",
              "        buttonEl.style.display =\n",
              "          google.colab.kernel.accessAllowed ? 'block' : 'none';\n",
              "\n",
              "        async function convertToInteractive(key) {\n",
              "          const element = document.querySelector('#df-710d135d-9af7-405b-8d4f-43139e622133');\n",
              "          const dataTable =\n",
              "            await google.colab.kernel.invokeFunction('convertToInteractive',\n",
              "                                                     [key], {});\n",
              "          if (!dataTable) return;\n",
              "\n",
              "          const docLinkHtml = 'Like what you see? Visit the ' +\n",
              "            '<a target=\"_blank\" href=https://colab.research.google.com/notebooks/data_table.ipynb>data table notebook</a>'\n",
              "            + ' to learn more about interactive tables.';\n",
              "          element.innerHTML = '';\n",
              "          dataTable['output_type'] = 'display_data';\n",
              "          await google.colab.output.renderOutput(dataTable, element);\n",
              "          const docLink = document.createElement('div');\n",
              "          docLink.innerHTML = docLinkHtml;\n",
              "          element.appendChild(docLink);\n",
              "        }\n",
              "      </script>\n",
              "    </div>\n",
              "  </div>\n",
              "  "
            ]
          },
          "metadata": {},
          "execution_count": 80
        }
      ]
    },
    {
      "cell_type": "markdown",
      "source": [
        "Note that our accuracy actually **decreased**, and that we misclassify a substantial share of our minority class still. BUT we find *some* of the clearer examples. Seems we sacrificed precision for recall.\n",
        "\n",
        "# Comparison to Classifier Trained on Imbalanced Data\n",
        "\n",
        "Let's see how this compares to coding a similarly sized sample again:"
      ],
      "metadata": {
        "id": "OCCC-6CXr-Qj"
      }
    },
    {
      "cell_type": "code",
      "source": [
        "# generate a random sample of tweets\n",
        "rndsmpl_more = tweets.sample(n=8000,  random_state=42)\n",
        "\n",
        "# divide into training and test set\n",
        "X_train_m, X_test_m, y_train_m, y_test_m = train_test_split(\n",
        "    rndsmpl_more.text,\n",
        "    rndsmpl_more.annotation,\n",
        "    test_size=0.20,\n",
        "    random_state=42\n",
        ")\n",
        "X_train_m = np.array(X_train_m)\n",
        "X_test_m = np.array(X_test_m)\n",
        "\n",
        "# fit\n",
        "pipe = Pipeline([('count', CountVectorizer()), ('LogReg', LogReg())])\n",
        "pipe.fit(X_train_m, y_train_m)\n",
        "\n",
        "# classify test set and show performance\n",
        "y_pred_m = pipe.predict(X_test_m)\n",
        "print(\"Accuracy: \", accuracy_score(y_test_m, y_pred_m).round(2))\n",
        "print(\"Recall: \", recall_score(y_test_m, y_pred_m).round(2))\n",
        "print(\"Precision: \", precision_score(y_test_m, y_pred_m).round(2))\n",
        "print(\"F1: \", f1_score(y_test_m, y_pred_m).round(2))\n",
        "pd.crosstab(y_test_m, y_pred_m)"
      ],
      "metadata": {
        "colab": {
          "base_uri": "https://localhost:8080/",
          "height": 214
        },
        "id": "nExRFEJNrqYo",
        "outputId": "0d50d728-ab52-4e6f-ead5-b5801b1195ca"
      },
      "execution_count": 81,
      "outputs": [
        {
          "output_type": "stream",
          "name": "stdout",
          "text": [
            "Accuracy:  0.97\n",
            "Recall:  0.1\n",
            "Precision:  0.83\n",
            "F1:  0.19\n"
          ]
        },
        {
          "output_type": "execute_result",
          "data": {
            "text/plain": [
              "col_0        0.0  1.0\n",
              "annotation           \n",
              "0.0         1551    1\n",
              "1.0           43    5"
            ],
            "text/html": [
              "\n",
              "  <div id=\"df-224d0d7f-e0c5-4ad7-ae22-12a9770588b3\">\n",
              "    <div class=\"colab-df-container\">\n",
              "      <div>\n",
              "<style scoped>\n",
              "    .dataframe tbody tr th:only-of-type {\n",
              "        vertical-align: middle;\n",
              "    }\n",
              "\n",
              "    .dataframe tbody tr th {\n",
              "        vertical-align: top;\n",
              "    }\n",
              "\n",
              "    .dataframe thead th {\n",
              "        text-align: right;\n",
              "    }\n",
              "</style>\n",
              "<table border=\"1\" class=\"dataframe\">\n",
              "  <thead>\n",
              "    <tr style=\"text-align: right;\">\n",
              "      <th>col_0</th>\n",
              "      <th>0.0</th>\n",
              "      <th>1.0</th>\n",
              "    </tr>\n",
              "    <tr>\n",
              "      <th>annotation</th>\n",
              "      <th></th>\n",
              "      <th></th>\n",
              "    </tr>\n",
              "  </thead>\n",
              "  <tbody>\n",
              "    <tr>\n",
              "      <th>0.0</th>\n",
              "      <td>1551</td>\n",
              "      <td>1</td>\n",
              "    </tr>\n",
              "    <tr>\n",
              "      <th>1.0</th>\n",
              "      <td>43</td>\n",
              "      <td>5</td>\n",
              "    </tr>\n",
              "  </tbody>\n",
              "</table>\n",
              "</div>\n",
              "      <button class=\"colab-df-convert\" onclick=\"convertToInteractive('df-224d0d7f-e0c5-4ad7-ae22-12a9770588b3')\"\n",
              "              title=\"Convert this dataframe to an interactive table.\"\n",
              "              style=\"display:none;\">\n",
              "        \n",
              "  <svg xmlns=\"http://www.w3.org/2000/svg\" height=\"24px\"viewBox=\"0 0 24 24\"\n",
              "       width=\"24px\">\n",
              "    <path d=\"M0 0h24v24H0V0z\" fill=\"none\"/>\n",
              "    <path d=\"M18.56 5.44l.94 2.06.94-2.06 2.06-.94-2.06-.94-.94-2.06-.94 2.06-2.06.94zm-11 1L8.5 8.5l.94-2.06 2.06-.94-2.06-.94L8.5 2.5l-.94 2.06-2.06.94zm10 10l.94 2.06.94-2.06 2.06-.94-2.06-.94-.94-2.06-.94 2.06-2.06.94z\"/><path d=\"M17.41 7.96l-1.37-1.37c-.4-.4-.92-.59-1.43-.59-.52 0-1.04.2-1.43.59L10.3 9.45l-7.72 7.72c-.78.78-.78 2.05 0 2.83L4 21.41c.39.39.9.59 1.41.59.51 0 1.02-.2 1.41-.59l7.78-7.78 2.81-2.81c.8-.78.8-2.07 0-2.86zM5.41 20L4 18.59l7.72-7.72 1.47 1.35L5.41 20z\"/>\n",
              "  </svg>\n",
              "      </button>\n",
              "      \n",
              "  <style>\n",
              "    .colab-df-container {\n",
              "      display:flex;\n",
              "      flex-wrap:wrap;\n",
              "      gap: 12px;\n",
              "    }\n",
              "\n",
              "    .colab-df-convert {\n",
              "      background-color: #E8F0FE;\n",
              "      border: none;\n",
              "      border-radius: 50%;\n",
              "      cursor: pointer;\n",
              "      display: none;\n",
              "      fill: #1967D2;\n",
              "      height: 32px;\n",
              "      padding: 0 0 0 0;\n",
              "      width: 32px;\n",
              "    }\n",
              "\n",
              "    .colab-df-convert:hover {\n",
              "      background-color: #E2EBFA;\n",
              "      box-shadow: 0px 1px 2px rgba(60, 64, 67, 0.3), 0px 1px 3px 1px rgba(60, 64, 67, 0.15);\n",
              "      fill: #174EA6;\n",
              "    }\n",
              "\n",
              "    [theme=dark] .colab-df-convert {\n",
              "      background-color: #3B4455;\n",
              "      fill: #D2E3FC;\n",
              "    }\n",
              "\n",
              "    [theme=dark] .colab-df-convert:hover {\n",
              "      background-color: #434B5C;\n",
              "      box-shadow: 0px 1px 3px 1px rgba(0, 0, 0, 0.15);\n",
              "      filter: drop-shadow(0px 1px 2px rgba(0, 0, 0, 0.3));\n",
              "      fill: #FFFFFF;\n",
              "    }\n",
              "  </style>\n",
              "\n",
              "      <script>\n",
              "        const buttonEl =\n",
              "          document.querySelector('#df-224d0d7f-e0c5-4ad7-ae22-12a9770588b3 button.colab-df-convert');\n",
              "        buttonEl.style.display =\n",
              "          google.colab.kernel.accessAllowed ? 'block' : 'none';\n",
              "\n",
              "        async function convertToInteractive(key) {\n",
              "          const element = document.querySelector('#df-224d0d7f-e0c5-4ad7-ae22-12a9770588b3');\n",
              "          const dataTable =\n",
              "            await google.colab.kernel.invokeFunction('convertToInteractive',\n",
              "                                                     [key], {});\n",
              "          if (!dataTable) return;\n",
              "\n",
              "          const docLinkHtml = 'Like what you see? Visit the ' +\n",
              "            '<a target=\"_blank\" href=https://colab.research.google.com/notebooks/data_table.ipynb>data table notebook</a>'\n",
              "            + ' to learn more about interactive tables.';\n",
              "          element.innerHTML = '';\n",
              "          dataTable['output_type'] = 'display_data';\n",
              "          await google.colab.output.renderOutput(dataTable, element);\n",
              "          const docLink = document.createElement('div');\n",
              "          docLink.innerHTML = docLinkHtml;\n",
              "          element.appendChild(docLink);\n",
              "        }\n",
              "      </script>\n",
              "    </div>\n",
              "  </div>\n",
              "  "
            ]
          },
          "metadata": {},
          "execution_count": 81
        }
      ]
    },
    {
      "cell_type": "markdown",
      "source": [
        "Here we have very good precision, but would only find very few of the cases in the outcome category, which are the ones we care about after all. And that after investing so much more time and work!\n",
        "\n",
        "There must be a better way!\n",
        "\n",
        "\n",
        "\n",
        "---\n",
        "\n",
        "Note that SMOTE performs far better in less extreme cases and in combination with undersampling. For more info, check out the [scikit-learn documentation on combining under- and oversampling](https://imbalanced-learn.org/stable/combine.html)."
      ],
      "metadata": {
        "id": "mDeiWfb3y_Th"
      }
    }
  ]
}