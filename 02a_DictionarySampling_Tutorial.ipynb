{
  "nbformat": 4,
  "nbformat_minor": 0,
  "metadata": {
    "colab": {
      "name": "Dictionary.ipynb",
      "provenance": [],
      "collapsed_sections": [
        "ddy0OxHyHFjI"
      ],
      "authorship_tag": "ABX9TyNhCfg+otX3dhn8D+5R4LpS",
      "include_colab_link": true
    },
    "kernelspec": {
      "name": "python3",
      "display_name": "Python 3"
    },
    "language_info": {
      "name": "python"
    }
  },
  "cells": [
    {
      "cell_type": "markdown",
      "metadata": {
        "id": "view-in-github",
        "colab_type": "text"
      },
      "source": [
        "<a href=\"https://colab.research.google.com/github/nicolaiberk/Imbalanced/blob/master/02a_DictionarySampling_Tutorial.ipynb\" target=\"_parent\"><img src=\"https://colab.research.google.com/assets/colab-badge.svg\" alt=\"Open In Colab\"/></a>"
      ]
    },
    {
      "cell_type": "markdown",
      "source": [
        "# Stratified Dictionary Sampling for Imbalanced Data\n",
        "\n",
        "**The solutions for this notebook can be found [here](https://colab.research.google.com/github/nicolaiberk/Imbalanced/blob/master/02a_DictionarySampling_Solution.ipynb)**.\n",
        "\n",
        "To address imbalanced data problems we can oversample the minority class from the original (unlabelled) data. One particular method to do this is to define a dictionary related to the concept of interest and select a higher number of observations from samples containing words related to the concept. This works particular well with dictionary extension using embeddings.\n",
        "\n",
        "We use an imbalanced dataset of articles from the far-right Breitbart news website from [this paper](https://www.cambridge.org/core/services/aop-cambridge-core/content/view/CF6AAF05F465D5BC688A9548433123C1/S1047198720000042a.pdf/active-learning-approaches-for-labeling-text-review-and-assessment-of-the-performance-of-active-learning-approaches.pdf). The articles carry a meta-tag (chosen by the editors of the website) to indicate whether an article contains content relating to 'muslim identity'. We will try to train a classifier to detect these articles."
      ],
      "metadata": {
        "id": "mlTrmoelG9yC"
      }
    },
    {
      "cell_type": "code",
      "execution_count": 17,
      "metadata": {
        "id": "mjr0UFCKFTyj"
      },
      "outputs": [],
      "source": [
        "## load basic packages, data\n",
        "import pandas as pd\n",
        "import numpy as np\n",
        "\n",
        "df = pd.read_csv(\"https://www.dropbox.com/s/f4uuowcxguudszl/breitbart_data.csv?dl=1\")\n",
        "df = df.sample(10000) # sample"
      ]
    },
    {
      "cell_type": "markdown",
      "source": [
        "A first inspection of the data reveals many variables, of which we will only use the text and the outcome of interest, 'muslim_identity'."
      ],
      "metadata": {
        "id": "WZ3EiukmoyQE"
      }
    },
    {
      "cell_type": "code",
      "source": [
        "df.head()"
      ],
      "metadata": {
        "colab": {
          "base_uri": "https://localhost:8080/",
          "height": 562
        },
        "id": "if7SsQuASHUo",
        "outputId": "0bbff39e-7b0c-4dbd-a08e-9c64a7af85f9"
      },
      "execution_count": 18,
      "outputs": [
        {
          "output_type": "execute_result",
          "data": {
            "text/plain": [
              "                                              article_id  \\\n",
              "17263  one-giant-leap-come-on-america-lets-put-a-cong...   \n",
              "20093  review-julie-julia-traditional-filmmaking-with...   \n",
              "8355                                          4663331538   \n",
              "20060                                         4493655733   \n",
              "9071                                          5607579722   \n",
              "\n",
              "                                            article_slug           author  \\\n",
              "17263  one-giant-leap-come-on-america-lets-put-a-cong...         Iowahawk   \n",
              "20093  review-julie-julia-traditional-filmmaking-with...   Carl Kozlowski   \n",
              "8355   two-islamic-state-chemical-attacks-in-iraq-wou...       Edwin Mora   \n",
              "20060             lindsey-graham-set-to-endorse-jeb-bush  Michelle Fields   \n",
              "9071   islamic-state-may-used-chemical-weapons-near-m...       Edwin Mora   \n",
              "\n",
              "       comment_count                                               href  \\\n",
              "17263            0.0  http://www.breitbart.com/big-hollywood/2009/07...   \n",
              "20093            0.0  http://www.breitbart.com/big-hollywood/2009/08...   \n",
              "8355             0.0  http://www.breitbart.com/national-security/201...   \n",
              "20060            0.0  http://www.breitbart.com/big-government/2016/0...   \n",
              "9071             0.0  http://www.breitbart.com/national-security/201...   \n",
              "\n",
              "                                              main_image      modified  \\\n",
              "17263                                                NaN  21 Jul, 2009   \n",
              "20093                                                NaN   7 Aug, 2009   \n",
              "8355   http://media.breitbart.com/media/2016/03/iraq-...  14 Mar, 2016   \n",
              "20060  http://media.breitbart.com/media/2015/06/Getty...  15 Jan, 2016   \n",
              "9071   http://media.breitbart.com/media/2016/08/chemi...   6 Mar, 2017   \n",
              "\n",
              "          published  share_count  \\\n",
              "17263  21 Jul, 2009          0.0   \n",
              "20093   7 Aug, 2009          0.0   \n",
              "8355   14 Mar, 2016        965.0   \n",
              "20060  15 Jan, 2016      13881.0   \n",
              "9071    6 Mar, 2017        259.0   \n",
              "\n",
              "                                                    tags  \\\n",
              "17263  /big-hollywood/ /tag/congress/ /tag/jerrold-na...   \n",
              "20093                                    /big-hollywood/   \n",
              "8355   /jihad/ /middle-east/ /national-security/ /tag...   \n",
              "20060  /2016-presidential-race/ /big-government/ /tag...   \n",
              "9071   /jerusalem/ /jihad/ /national-security/ /tag/c...   \n",
              "\n",
              "                                                   title  muslim_identity  \\\n",
              "17263  One Giant Leap: Come on America, Let's Put a C...                0   \n",
              "20093  Review: 'Julie & Julia'–Traditional Filmmaking...                0   \n",
              "8355   Iraq: Islamic State Chemical Attacks Wound 600...                1   \n",
              "20060             Lindsey Graham Set To Endorse Jeb Bush                0   \n",
              "9071   Islamic State Accused of Using ‘Blistering Che...                0   \n",
              "\n",
              "                                                    text  \n",
              "17263  An Iowahawk Techno-pinion\\nby David Burge\\n\\nI...  \n",
              "20093  It’s rare enough these days to see a movie in ...  \n",
              "8355   Islamic State (ISIS/ISIL) jihadists have launc...  \n",
              "20060  CHARLESTON, S.C. — Sen. Lindsey Graham (R-SC) ...  \n",
              "9071   The medical treatment of women and children, i...  "
            ],
            "text/html": [
              "\n",
              "  <div id=\"df-bfb79279-3815-45d6-97da-f4641ccd5403\">\n",
              "    <div class=\"colab-df-container\">\n",
              "      <div>\n",
              "<style scoped>\n",
              "    .dataframe tbody tr th:only-of-type {\n",
              "        vertical-align: middle;\n",
              "    }\n",
              "\n",
              "    .dataframe tbody tr th {\n",
              "        vertical-align: top;\n",
              "    }\n",
              "\n",
              "    .dataframe thead th {\n",
              "        text-align: right;\n",
              "    }\n",
              "</style>\n",
              "<table border=\"1\" class=\"dataframe\">\n",
              "  <thead>\n",
              "    <tr style=\"text-align: right;\">\n",
              "      <th></th>\n",
              "      <th>article_id</th>\n",
              "      <th>article_slug</th>\n",
              "      <th>author</th>\n",
              "      <th>comment_count</th>\n",
              "      <th>href</th>\n",
              "      <th>main_image</th>\n",
              "      <th>modified</th>\n",
              "      <th>published</th>\n",
              "      <th>share_count</th>\n",
              "      <th>tags</th>\n",
              "      <th>title</th>\n",
              "      <th>muslim_identity</th>\n",
              "      <th>text</th>\n",
              "    </tr>\n",
              "  </thead>\n",
              "  <tbody>\n",
              "    <tr>\n",
              "      <th>17263</th>\n",
              "      <td>one-giant-leap-come-on-america-lets-put-a-cong...</td>\n",
              "      <td>one-giant-leap-come-on-america-lets-put-a-cong...</td>\n",
              "      <td>Iowahawk</td>\n",
              "      <td>0.0</td>\n",
              "      <td>http://www.breitbart.com/big-hollywood/2009/07...</td>\n",
              "      <td>NaN</td>\n",
              "      <td>21 Jul, 2009</td>\n",
              "      <td>21 Jul, 2009</td>\n",
              "      <td>0.0</td>\n",
              "      <td>/big-hollywood/ /tag/congress/ /tag/jerrold-na...</td>\n",
              "      <td>One Giant Leap: Come on America, Let's Put a C...</td>\n",
              "      <td>0</td>\n",
              "      <td>An Iowahawk Techno-pinion\\nby David Burge\\n\\nI...</td>\n",
              "    </tr>\n",
              "    <tr>\n",
              "      <th>20093</th>\n",
              "      <td>review-julie-julia-traditional-filmmaking-with...</td>\n",
              "      <td>review-julie-julia-traditional-filmmaking-with...</td>\n",
              "      <td>Carl Kozlowski</td>\n",
              "      <td>0.0</td>\n",
              "      <td>http://www.breitbart.com/big-hollywood/2009/08...</td>\n",
              "      <td>NaN</td>\n",
              "      <td>7 Aug, 2009</td>\n",
              "      <td>7 Aug, 2009</td>\n",
              "      <td>0.0</td>\n",
              "      <td>/big-hollywood/</td>\n",
              "      <td>Review: 'Julie &amp; Julia'–Traditional Filmmaking...</td>\n",
              "      <td>0</td>\n",
              "      <td>It’s rare enough these days to see a movie in ...</td>\n",
              "    </tr>\n",
              "    <tr>\n",
              "      <th>8355</th>\n",
              "      <td>4663331538</td>\n",
              "      <td>two-islamic-state-chemical-attacks-in-iraq-wou...</td>\n",
              "      <td>Edwin Mora</td>\n",
              "      <td>0.0</td>\n",
              "      <td>http://www.breitbart.com/national-security/201...</td>\n",
              "      <td>http://media.breitbart.com/media/2016/03/iraq-...</td>\n",
              "      <td>14 Mar, 2016</td>\n",
              "      <td>14 Mar, 2016</td>\n",
              "      <td>965.0</td>\n",
              "      <td>/jihad/ /middle-east/ /national-security/ /tag...</td>\n",
              "      <td>Iraq: Islamic State Chemical Attacks Wound 600...</td>\n",
              "      <td>1</td>\n",
              "      <td>Islamic State (ISIS/ISIL) jihadists have launc...</td>\n",
              "    </tr>\n",
              "    <tr>\n",
              "      <th>20060</th>\n",
              "      <td>4493655733</td>\n",
              "      <td>lindsey-graham-set-to-endorse-jeb-bush</td>\n",
              "      <td>Michelle Fields</td>\n",
              "      <td>0.0</td>\n",
              "      <td>http://www.breitbart.com/big-government/2016/0...</td>\n",
              "      <td>http://media.breitbart.com/media/2015/06/Getty...</td>\n",
              "      <td>15 Jan, 2016</td>\n",
              "      <td>15 Jan, 2016</td>\n",
              "      <td>13881.0</td>\n",
              "      <td>/2016-presidential-race/ /big-government/ /tag...</td>\n",
              "      <td>Lindsey Graham Set To Endorse Jeb Bush</td>\n",
              "      <td>0</td>\n",
              "      <td>CHARLESTON, S.C. — Sen. Lindsey Graham (R-SC) ...</td>\n",
              "    </tr>\n",
              "    <tr>\n",
              "      <th>9071</th>\n",
              "      <td>5607579722</td>\n",
              "      <td>islamic-state-may-used-chemical-weapons-near-m...</td>\n",
              "      <td>Edwin Mora</td>\n",
              "      <td>0.0</td>\n",
              "      <td>http://www.breitbart.com/national-security/201...</td>\n",
              "      <td>http://media.breitbart.com/media/2016/08/chemi...</td>\n",
              "      <td>6 Mar, 2017</td>\n",
              "      <td>6 Mar, 2017</td>\n",
              "      <td>259.0</td>\n",
              "      <td>/jerusalem/ /jihad/ /national-security/ /tag/c...</td>\n",
              "      <td>Islamic State Accused of Using ‘Blistering Che...</td>\n",
              "      <td>0</td>\n",
              "      <td>The medical treatment of women and children, i...</td>\n",
              "    </tr>\n",
              "  </tbody>\n",
              "</table>\n",
              "</div>\n",
              "      <button class=\"colab-df-convert\" onclick=\"convertToInteractive('df-bfb79279-3815-45d6-97da-f4641ccd5403')\"\n",
              "              title=\"Convert this dataframe to an interactive table.\"\n",
              "              style=\"display:none;\">\n",
              "        \n",
              "  <svg xmlns=\"http://www.w3.org/2000/svg\" height=\"24px\"viewBox=\"0 0 24 24\"\n",
              "       width=\"24px\">\n",
              "    <path d=\"M0 0h24v24H0V0z\" fill=\"none\"/>\n",
              "    <path d=\"M18.56 5.44l.94 2.06.94-2.06 2.06-.94-2.06-.94-.94-2.06-.94 2.06-2.06.94zm-11 1L8.5 8.5l.94-2.06 2.06-.94-2.06-.94L8.5 2.5l-.94 2.06-2.06.94zm10 10l.94 2.06.94-2.06 2.06-.94-2.06-.94-.94-2.06-.94 2.06-2.06.94z\"/><path d=\"M17.41 7.96l-1.37-1.37c-.4-.4-.92-.59-1.43-.59-.52 0-1.04.2-1.43.59L10.3 9.45l-7.72 7.72c-.78.78-.78 2.05 0 2.83L4 21.41c.39.39.9.59 1.41.59.51 0 1.02-.2 1.41-.59l7.78-7.78 2.81-2.81c.8-.78.8-2.07 0-2.86zM5.41 20L4 18.59l7.72-7.72 1.47 1.35L5.41 20z\"/>\n",
              "  </svg>\n",
              "      </button>\n",
              "      \n",
              "  <style>\n",
              "    .colab-df-container {\n",
              "      display:flex;\n",
              "      flex-wrap:wrap;\n",
              "      gap: 12px;\n",
              "    }\n",
              "\n",
              "    .colab-df-convert {\n",
              "      background-color: #E8F0FE;\n",
              "      border: none;\n",
              "      border-radius: 50%;\n",
              "      cursor: pointer;\n",
              "      display: none;\n",
              "      fill: #1967D2;\n",
              "      height: 32px;\n",
              "      padding: 0 0 0 0;\n",
              "      width: 32px;\n",
              "    }\n",
              "\n",
              "    .colab-df-convert:hover {\n",
              "      background-color: #E2EBFA;\n",
              "      box-shadow: 0px 1px 2px rgba(60, 64, 67, 0.3), 0px 1px 3px 1px rgba(60, 64, 67, 0.15);\n",
              "      fill: #174EA6;\n",
              "    }\n",
              "\n",
              "    [theme=dark] .colab-df-convert {\n",
              "      background-color: #3B4455;\n",
              "      fill: #D2E3FC;\n",
              "    }\n",
              "\n",
              "    [theme=dark] .colab-df-convert:hover {\n",
              "      background-color: #434B5C;\n",
              "      box-shadow: 0px 1px 3px 1px rgba(0, 0, 0, 0.15);\n",
              "      filter: drop-shadow(0px 1px 2px rgba(0, 0, 0, 0.3));\n",
              "      fill: #FFFFFF;\n",
              "    }\n",
              "  </style>\n",
              "\n",
              "      <script>\n",
              "        const buttonEl =\n",
              "          document.querySelector('#df-bfb79279-3815-45d6-97da-f4641ccd5403 button.colab-df-convert');\n",
              "        buttonEl.style.display =\n",
              "          google.colab.kernel.accessAllowed ? 'block' : 'none';\n",
              "\n",
              "        async function convertToInteractive(key) {\n",
              "          const element = document.querySelector('#df-bfb79279-3815-45d6-97da-f4641ccd5403');\n",
              "          const dataTable =\n",
              "            await google.colab.kernel.invokeFunction('convertToInteractive',\n",
              "                                                     [key], {});\n",
              "          if (!dataTable) return;\n",
              "\n",
              "          const docLinkHtml = 'Like what you see? Visit the ' +\n",
              "            '<a target=\"_blank\" href=https://colab.research.google.com/notebooks/data_table.ipynb>data table notebook</a>'\n",
              "            + ' to learn more about interactive tables.';\n",
              "          element.innerHTML = '';\n",
              "          dataTable['output_type'] = 'display_data';\n",
              "          await google.colab.output.renderOutput(dataTable, element);\n",
              "          const docLink = document.createElement('div');\n",
              "          docLink.innerHTML = docLinkHtml;\n",
              "          element.appendChild(docLink);\n",
              "        }\n",
              "      </script>\n",
              "    </div>\n",
              "  </div>\n",
              "  "
            ]
          },
          "metadata": {},
          "execution_count": 18
        }
      ]
    },
    {
      "cell_type": "markdown",
      "source": [
        "We split the data into train and test set in order to evaluate it later and delete the initial data."
      ],
      "metadata": {
        "id": "RW4qtuRppEt0"
      }
    },
    {
      "cell_type": "code",
      "source": [
        "# train test split\n",
        "from sklearn.model_selection import train_test_split\n",
        "____, X_test, _____, _____ = train_test_split(\n",
        "    df.text,\n",
        "    df.muslim_identity,\n",
        "    test_size=0.20,\n",
        "    random_state=42\n",
        ")\n",
        "\n",
        "del df"
      ],
      "metadata": {
        "id": "zjhvkoNrR3FV"
      },
      "execution_count": 19,
      "outputs": []
    },
    {
      "cell_type": "code",
      "source": [
        "print(f\"{sum(y_train)} positive cases out of a full set of {len(y_train)} in the training set ({round(sum(y_train)*100/len(y_train), 2)}%).\")\n",
        "pd.Series(y_train).value_counts().plot(kind='bar', title='Class distribution in raw training set')"
      ],
      "metadata": {
        "colab": {
          "base_uri": "https://localhost:8080/",
          "height": 313
        },
        "id": "QjdaIlTEnS66",
        "outputId": "f160c554-7c96-4173-d398-367b94395037"
      },
      "execution_count": 20,
      "outputs": [
        {
          "output_type": "stream",
          "name": "stdout",
          "text": [
            "735 positive cases out of a full set of 8000 in the training set (9.19%).\n"
          ]
        },
        {
          "output_type": "execute_result",
          "data": {
            "text/plain": [
              "<matplotlib.axes._subplots.AxesSubplot at 0x7ff0c18d5d50>"
            ]
          },
          "metadata": {},
          "execution_count": 20
        },
        {
          "output_type": "display_data",
          "data": {
            "text/plain": [
              "<Figure size 432x288 with 1 Axes>"
            ],
            "image/png": "[encoded data removed]"
          },
          "metadata": {
            "needs_background": "light"
          }
        }
      ]
    },
    {
      "cell_type": "markdown",
      "source": [
        "## BONUS: Dictionary Generation and Extension\n",
        "\n"
      ],
      "metadata": {
        "id": "ddy0OxHyHFjI"
      }
    },
    {
      "cell_type": "code",
      "source": [
        "# define a very basic dictionary\n",
        "seed_dict = [\"muslim\", \"muslims\", \"islam\", \"islamic\", \"shiite\", \"sunni\"]"
      ],
      "metadata": {
        "id": "tw4bxPfGO9Nl"
      },
      "execution_count": 21,
      "outputs": []
    },
    {
      "cell_type": "code",
      "source": [
        "# load embeddings from gensim\n",
        "import gensim.downloader as api\n",
        "\n",
        "model = api.load(\"glove-wiki-gigaword-100\") # takes a minute or two"
      ],
      "metadata": {
        "id": "jgZB6eZdHDEb"
      },
      "execution_count": 22,
      "outputs": []
    },
    {
      "cell_type": "code",
      "source": [
        "# find most similar words\n",
        "pd.DataFrame(model.most_similar('muslim'))"
      ],
      "metadata": {
        "colab": {
          "base_uri": "https://localhost:8080/",
          "height": 427
        },
        "id": "PT-DAAV4MUOU",
        "outputId": "f2cb8261-5265-4d3c-d9d2-59783b164e21"
      },
      "execution_count": 23,
      "outputs": [
        {
          "output_type": "execute_result",
          "data": {
            "text/plain": [
              "                0         1\n",
              "0          moslem  0.862341\n",
              "1         muslims  0.838119\n",
              "2         islamic  0.837353\n",
              "3          shiite  0.784967\n",
              "4           sunni  0.776142\n",
              "5       religious  0.772651\n",
              "6  fundamentalist  0.751274\n",
              "7        militant  0.730902\n",
              "8      christians  0.717026\n",
              "9            arab  0.710104"
            ],
            "text/html": [
              "\n",
              "  <div id=\"df-45e5e2b6-bee2-4c9c-a39e-544243e4e025\">\n",
              "    <div class=\"colab-df-container\">\n",
              "      <div>\n",
              "<style scoped>\n",
              "    .dataframe tbody tr th:only-of-type {\n",
              "        vertical-align: middle;\n",
              "    }\n",
              "\n",
              "    .dataframe tbody tr th {\n",
              "        vertical-align: top;\n",
              "    }\n",
              "\n",
              "    .dataframe thead th {\n",
              "        text-align: right;\n",
              "    }\n",
              "</style>\n",
              "<table border=\"1\" class=\"dataframe\">\n",
              "  <thead>\n",
              "    <tr style=\"text-align: right;\">\n",
              "      <th></th>\n",
              "      <th>0</th>\n",
              "      <th>1</th>\n",
              "    </tr>\n",
              "  </thead>\n",
              "  <tbody>\n",
              "    <tr>\n",
              "      <th>0</th>\n",
              "      <td>moslem</td>\n",
              "      <td>0.862341</td>\n",
              "    </tr>\n",
              "    <tr>\n",
              "      <th>1</th>\n",
              "      <td>muslims</td>\n",
              "      <td>0.838119</td>\n",
              "    </tr>\n",
              "    <tr>\n",
              "      <th>2</th>\n",
              "      <td>islamic</td>\n",
              "      <td>0.837353</td>\n",
              "    </tr>\n",
              "    <tr>\n",
              "      <th>3</th>\n",
              "      <td>shiite</td>\n",
              "      <td>0.784967</td>\n",
              "    </tr>\n",
              "    <tr>\n",
              "      <th>4</th>\n",
              "      <td>sunni</td>\n",
              "      <td>0.776142</td>\n",
              "    </tr>\n",
              "    <tr>\n",
              "      <th>5</th>\n",
              "      <td>religious</td>\n",
              "      <td>0.772651</td>\n",
              "    </tr>\n",
              "    <tr>\n",
              "      <th>6</th>\n",
              "      <td>fundamentalist</td>\n",
              "      <td>0.751274</td>\n",
              "    </tr>\n",
              "    <tr>\n",
              "      <th>7</th>\n",
              "      <td>militant</td>\n",
              "      <td>0.730902</td>\n",
              "    </tr>\n",
              "    <tr>\n",
              "      <th>8</th>\n",
              "      <td>christians</td>\n",
              "      <td>0.717026</td>\n",
              "    </tr>\n",
              "    <tr>\n",
              "      <th>9</th>\n",
              "      <td>arab</td>\n",
              "      <td>0.710104</td>\n",
              "    </tr>\n",
              "  </tbody>\n",
              "</table>\n",
              "</div>\n",
              "      <button class=\"colab-df-convert\" onclick=\"convertToInteractive('df-45e5e2b6-bee2-4c9c-a39e-544243e4e025')\"\n",
              "              title=\"Convert this dataframe to an interactive table.\"\n",
              "              style=\"display:none;\">\n",
              "        \n",
              "  <svg xmlns=\"http://www.w3.org/2000/svg\" height=\"24px\"viewBox=\"0 0 24 24\"\n",
              "       width=\"24px\">\n",
              "    <path d=\"M0 0h24v24H0V0z\" fill=\"none\"/>\n",
              "    <path d=\"M18.56 5.44l.94 2.06.94-2.06 2.06-.94-2.06-.94-.94-2.06-.94 2.06-2.06.94zm-11 1L8.5 8.5l.94-2.06 2.06-.94-2.06-.94L8.5 2.5l-.94 2.06-2.06.94zm10 10l.94 2.06.94-2.06 2.06-.94-2.06-.94-.94-2.06-.94 2.06-2.06.94z\"/><path d=\"M17.41 7.96l-1.37-1.37c-.4-.4-.92-.59-1.43-.59-.52 0-1.04.2-1.43.59L10.3 9.45l-7.72 7.72c-.78.78-.78 2.05 0 2.83L4 21.41c.39.39.9.59 1.41.59.51 0 1.02-.2 1.41-.59l7.78-7.78 2.81-2.81c.8-.78.8-2.07 0-2.86zM5.41 20L4 18.59l7.72-7.72 1.47 1.35L5.41 20z\"/>\n",
              "  </svg>\n",
              "      </button>\n",
              "      \n",
              "  <style>\n",
              "    .colab-df-container {\n",
              "      display:flex;\n",
              "      flex-wrap:wrap;\n",
              "      gap: 12px;\n",
              "    }\n",
              "\n",
              "    .colab-df-convert {\n",
              "      background-color: #E8F0FE;\n",
              "      border: none;\n",
              "      border-radius: 50%;\n",
              "      cursor: pointer;\n",
              "      display: none;\n",
              "      fill: #1967D2;\n",
              "      height: 32px;\n",
              "      padding: 0 0 0 0;\n",
              "      width: 32px;\n",
              "    }\n",
              "\n",
              "    .colab-df-convert:hover {\n",
              "      background-color: #E2EBFA;\n",
              "      box-shadow: 0px 1px 2px rgba(60, 64, 67, 0.3), 0px 1px 3px 1px rgba(60, 64, 67, 0.15);\n",
              "      fill: #174EA6;\n",
              "    }\n",
              "\n",
              "    [theme=dark] .colab-df-convert {\n",
              "      background-color: #3B4455;\n",
              "      fill: #D2E3FC;\n",
              "    }\n",
              "\n",
              "    [theme=dark] .colab-df-convert:hover {\n",
              "      background-color: #434B5C;\n",
              "      box-shadow: 0px 1px 3px 1px rgba(0, 0, 0, 0.15);\n",
              "      filter: drop-shadow(0px 1px 2px rgba(0, 0, 0, 0.3));\n",
              "      fill: #FFFFFF;\n",
              "    }\n",
              "  </style>\n",
              "\n",
              "      <script>\n",
              "        const buttonEl =\n",
              "          document.querySelector('#df-45e5e2b6-bee2-4c9c-a39e-544243e4e025 button.colab-df-convert');\n",
              "        buttonEl.style.display =\n",
              "          google.colab.kernel.accessAllowed ? 'block' : 'none';\n",
              "\n",
              "        async function convertToInteractive(key) {\n",
              "          const element = document.querySelector('#df-45e5e2b6-bee2-4c9c-a39e-544243e4e025');\n",
              "          const dataTable =\n",
              "            await google.colab.kernel.invokeFunction('convertToInteractive',\n",
              "                                                     [key], {});\n",
              "          if (!dataTable) return;\n",
              "\n",
              "          const docLinkHtml = 'Like what you see? Visit the ' +\n",
              "            '<a target=\"_blank\" href=https://colab.research.google.com/notebooks/data_table.ipynb>data table notebook</a>'\n",
              "            + ' to learn more about interactive tables.';\n",
              "          element.innerHTML = '';\n",
              "          dataTable['output_type'] = 'display_data';\n",
              "          await google.colab.output.renderOutput(dataTable, element);\n",
              "          const docLink = document.createElement('div');\n",
              "          docLink.innerHTML = docLinkHtml;\n",
              "          element.appendChild(docLink);\n",
              "        }\n",
              "      </script>\n",
              "    </div>\n",
              "  </div>\n",
              "  "
            ]
          },
          "metadata": {},
          "execution_count": 23
        }
      ]
    },
    {
      "cell_type": "code",
      "source": [
        "# extend dictionary more systematically\n",
        "cutoff = 0.7\n",
        "\n",
        "from copy import deepcopy\n",
        "extended_dict = deepcopy(seed_dict) # this is necessary because python's = is a bit weird\n",
        "\n",
        "for sw in seed_dict:\n",
        "  dump = pd.DataFrame(model.most_similar(sw, topn = 50))\n",
        "  extended_dict.extend([w for w in dump.loc[dump[1] > cutoff, 0]])\n"
      ],
      "metadata": {
        "id": "Ocr2MBTWMjsb"
      },
      "execution_count": 24,
      "outputs": []
    },
    {
      "cell_type": "markdown",
      "source": [
        "# Count Terms"
      ],
      "metadata": {
        "id": "LuvrVX1HRGrh"
      }
    },
    {
      "cell_type": "code",
      "source": [
        "print(extended_dict) # ideally we would clean this a little more"
      ],
      "metadata": {
        "colab": {
          "base_uri": "https://localhost:8080/"
        },
        "id": "ORsKfujcpe2P",
        "outputId": "3b1f4997-426b-49db-94bf-1dc3ef30ba6f"
      },
      "execution_count": 25,
      "outputs": [
        {
          "output_type": "stream",
          "name": "stdout",
          "text": [
            "['muslim', 'muslims', 'islam', 'islamic', 'shiite', 'sunni', 'moslem', 'muslims', 'islamic', 'shiite', 'sunni', 'religious', 'fundamentalist', 'militant', 'christians', 'arab', 'extremists', 'christians', 'moslems', 'muslim', 'hindus', 'shiites', 'arabs', 'jews', 'buddhists', 'catholics', 'croats', 'moslem', 'sunnis', 'sikhs', 'islamic', 'christianity', 'religion', 'muslim', 'fundamentalist', 'islamist', 'militant', 'religious', 'extremist', 'islam', 'secular', 'fundamentalists', 'radical', 'jihad', 'militants', 'extremists', 'clerics', 'sunni', 'shiites', 'sadr', 'muslim', \"shi'ite\", 'sunnis', 'shia', 'cleric', 'moslem', 'clerics', 'kurdish', 'najaf', 'iraqi', 'shiite', 'sunnis', 'shiites', 'muslim', 'shia', \"shi'ite\", 'clerics']\n"
          ]
        }
      ]
    },
    {
      "cell_type": "code",
      "source": [
        "import nltk\n",
        "nltk.download('punkt')\n",
        "from nltk.tokenize import word_tokenize\n",
        "from tqdm import tqdm\n",
        "\n",
        "dict_freq = []\n",
        "\n",
        "for doc in tqdm(_____):\n",
        "  ______ = _\n",
        "  for w in _____(doc):\n",
        "    if w.lower() in ____:\n",
        "      counter += 1\n",
        "  dict_freq.____(counter)"
      ],
      "metadata": {
        "colab": {
          "base_uri": "https://localhost:8080/"
        },
        "id": "zsuHb3a3RFAD",
        "outputId": "f61a7e3d-d385-4a9a-d2e3-7c3308295b86"
      },
      "execution_count": 26,
      "outputs": [
        {
          "output_type": "stream",
          "name": "stdout",
          "text": [
            "[nltk_data] Downloading package punkt to /root/nltk_data...\n",
            "[nltk_data]   Package punkt is already up-to-date!\n"
          ]
        },
        {
          "output_type": "stream",
          "name": "stderr",
          "text": [
            "100%|██████████| 8000/8000 [00:36<00:00, 218.77it/s]\n"
          ]
        }
      ]
    },
    {
      "cell_type": "code",
      "source": [
        "import matplotlib.pyplot as plt\n",
        "plt.hist(dict_freq, bins = max(dict_freq)+1)\n",
        "plt.plot()"
      ],
      "metadata": {
        "colab": {
          "base_uri": "https://localhost:8080/",
          "height": 283
        },
        "id": "AfDJBmeiTSmW",
        "outputId": "b0272251-e3e2-4293-da98-c364eb9af441"
      },
      "execution_count": 27,
      "outputs": [
        {
          "output_type": "execute_result",
          "data": {
            "text/plain": [
              "[]"
            ]
          },
          "metadata": {},
          "execution_count": 27
        },
        {
          "output_type": "display_data",
          "data": {
            "text/plain": [
              "<Figure size 432x288 with 1 Axes>"
            ],
            "image/png": "[encoded data removed]"
          },
          "metadata": {
            "needs_background": "light"
          }
        }
      ]
    },
    {
      "cell_type": "markdown",
      "source": [
        "## Sampling"
      ],
      "metadata": {
        "id": "kyqfsgZ70i8d"
      }
    },
    {
      "cell_type": "code",
      "source": [
        "# generate three different samples based on value counts\n",
        "sample_size = 300\n",
        "cutoff= 3\n",
        "dict_freq = pd.DataFrame(dict_freq) # transform for easier handling\n",
        "\n",
        "sample_id = pd.DataFrame([0]*len(dict_freq)) # set all ids to 0\n",
        "\n",
        "sample_id[____ > 0 & (____ <= _____)] = 1\n",
        "sample_id[dict_freq > cutoff] = 2\n",
        "sample_id.value_counts()"
      ],
      "metadata": {
        "colab": {
          "base_uri": "https://localhost:8080/"
        },
        "id": "QX86vLkZUjnH",
        "outputId": "4a17764e-52ec-4234-ce28-4eec53303ed0"
      },
      "execution_count": 28,
      "outputs": [
        {
          "output_type": "execute_result",
          "data": {
            "text/plain": [
              "0    5825\n",
              "1    1113\n",
              "2    1062\n",
              "dtype: int64"
            ]
          },
          "metadata": {},
          "execution_count": 28
        }
      ]
    },
    {
      "cell_type": "code",
      "source": [
        "X_train = X_train.reset_index(drop=True)\n",
        "y_train = y_train.reset_index(drop = True)\n",
        "\n",
        "# sample randomly from each group\n",
        "low_sample_ids = sample_id[____[0] == 0].sample(____).index\n",
        "mid_sample_ids = sample_id[sample_id[0] == 1].sample(sample_size).index\n",
        "high_sample_ids = sample_id[sample_id[0] == 2].sample(sample_size).index\n",
        "\n",
        "\n",
        "sample_low  = X_train[_____]\n",
        "sample_mid  = X_train[mid_sample_ids]\n",
        "sample_high = X_train[high_sample_ids]\n",
        "\n",
        "# same for labels\n",
        "y_low  = y_train[low_sample_ids]\n",
        "y_mid  = y_train[mid_sample_ids]\n",
        "y_high = y_train[high_sample_ids]\n",
        "\n",
        "X_train_informed = pd.concat([sample_low, sample_mid, sample_high])\n",
        "y_train_informed = pd.concat([y_low, y_mid, y_high])"
      ],
      "metadata": {
        "id": "oFs2w-IYWEaM"
      },
      "execution_count": 29,
      "outputs": []
    },
    {
      "cell_type": "code",
      "source": [
        "round(sum(y_train_informed)/len(y_train_informed), 2)"
      ],
      "metadata": {
        "colab": {
          "base_uri": "https://localhost:8080/"
        },
        "id": "Npfwb15IXPOX",
        "outputId": "65483a69-9509-4613-ba77-1e57724a4005"
      },
      "execution_count": 34,
      "outputs": [
        {
          "output_type": "execute_result",
          "data": {
            "text/plain": [
              "0.2"
            ]
          },
          "metadata": {},
          "execution_count": 34
        }
      ]
    },
    {
      "cell_type": "code",
      "source": [
        "# compare to random sample\n",
        "rd_sample_ids = X_train.sample(sample_size*3).index\n",
        "X_train_random = X_train[rd_sample_ids]\n",
        "y_train_random = y_train[rd_sample_ids]\n",
        "round(sum(y_train_random)/len(y_train_random), 2)"
      ],
      "metadata": {
        "colab": {
          "base_uri": "https://localhost:8080/"
        },
        "id": "eh8twy_gXpsG",
        "outputId": "105dff8d-10f2-40ae-af76-b225282d75ff"
      },
      "execution_count": 35,
      "outputs": [
        {
          "output_type": "execute_result",
          "data": {
            "text/plain": [
              "0.09"
            ]
          },
          "metadata": {},
          "execution_count": 35
        }
      ]
    },
    {
      "cell_type": "markdown",
      "source": [
        "## Classification"
      ],
      "metadata": {
        "id": "l-6qYbqD9Wks"
      }
    },
    {
      "cell_type": "code",
      "source": [
        "# compare classifier performance\n",
        "from sklearn.feature_extraction.text import _____\n",
        "from sklearn.pipeline import Pipeline\n",
        "from sklearn.linear_model import _____\n",
        "from sklearn.metrics import accuracy_score, f1_score, recall_score, precision_score\n",
        "\n",
        "# random sample\n",
        "pipe_random = Pipeline([('count', ___), ('LogReg', ____)])\n",
        "pipe_random.fit(X_train_random, y_train_random)\n",
        "\n",
        "# informed sample\n",
        "pipe_informed = Pipeline([('count', ____), ('LogReg', _____)])\n",
        "pipe_informed.fit(X_train_informed, y_train_informed)"
      ],
      "metadata": {
        "colab": {
          "base_uri": "https://localhost:8080/"
        },
        "id": "aYg1ZzAQXz3c",
        "outputId": "33179c1d-bcca-447e-a6f0-4973e4ba47f3"
      },
      "execution_count": 36,
      "outputs": [
        {
          "output_type": "execute_result",
          "data": {
            "text/plain": [
              "Pipeline(steps=[('count', TfidfVectorizer()),\n",
              "                ('LogReg', LogisticRegression(max_iter=1000))])"
            ]
          },
          "metadata": {},
          "execution_count": 36
        }
      ]
    },
    {
      "cell_type": "code",
      "source": [
        "def accuracy_report(y_test, y_pred):\n",
        "  print(\"Accuracy: \",  round(accuracy_score(y_test, y_pred), 3))\n",
        "  print(\"Recall: \",    round(recall_score(y_test, y_pred), 3))\n",
        "  print(\"Precision: \", round(precision_score(y_test, y_pred), 3))\n",
        "  print(\"F1: \",        round(f1_score(y_test, y_pred), 3))"
      ],
      "metadata": {
        "id": "hP-piLRVbdgn"
      },
      "execution_count": 37,
      "outputs": []
    },
    {
      "cell_type": "markdown",
      "source": [
        "How well do the classifiers perform? We start with the assessment of the classifier trained on random data:"
      ],
      "metadata": {
        "id": "ZM5a5V2M9u--"
      }
    },
    {
      "cell_type": "code",
      "source": [
        "accuracy_report(_____, pipe_random._____(X_test))"
      ],
      "metadata": {
        "colab": {
          "base_uri": "https://localhost:8080/"
        },
        "id": "WVOE_mt9bfRt",
        "outputId": "dff3e14f-1ff9-463c-e45e-86c8ae6ba7e9"
      },
      "execution_count": 38,
      "outputs": [
        {
          "output_type": "stream",
          "name": "stdout",
          "text": [
            "Accuracy:  0.93\n",
            "Recall:  0.127\n",
            "Precision:  0.952\n",
            "F1:  0.223\n"
          ]
        }
      ]
    },
    {
      "cell_type": "code",
      "source": [
        "pd._____(y_test, pipe_random.predict(X_test))"
      ],
      "metadata": {
        "colab": {
          "base_uri": "https://localhost:8080/",
          "height": 143
        },
        "id": "1BuDqL9AlLHu",
        "outputId": "54ad8cf6-1493-4d6a-c378-c2716e774f07"
      },
      "execution_count": 39,
      "outputs": [
        {
          "output_type": "execute_result",
          "data": {
            "text/plain": [
              "col_0               0   1\n",
              "muslim_identity          \n",
              "0                1841   1\n",
              "1                 138  20"
            ],
            "text/html": [
              "\n",
              "  <div id=\"df-c3b87040-d3b7-4bd9-a88c-61d7b4cf1c46\">\n",
              "    <div class=\"colab-df-container\">\n",
              "      <div>\n",
              "<style scoped>\n",
              "    .dataframe tbody tr th:only-of-type {\n",
              "        vertical-align: middle;\n",
              "    }\n",
              "\n",
              "    .dataframe tbody tr th {\n",
              "        vertical-align: top;\n",
              "    }\n",
              "\n",
              "    .dataframe thead th {\n",
              "        text-align: right;\n",
              "    }\n",
              "</style>\n",
              "<table border=\"1\" class=\"dataframe\">\n",
              "  <thead>\n",
              "    <tr style=\"text-align: right;\">\n",
              "      <th>col_0</th>\n",
              "      <th>0</th>\n",
              "      <th>1</th>\n",
              "    </tr>\n",
              "    <tr>\n",
              "      <th>muslim_identity</th>\n",
              "      <th></th>\n",
              "      <th></th>\n",
              "    </tr>\n",
              "  </thead>\n",
              "  <tbody>\n",
              "    <tr>\n",
              "      <th>0</th>\n",
              "      <td>1841</td>\n",
              "      <td>1</td>\n",
              "    </tr>\n",
              "    <tr>\n",
              "      <th>1</th>\n",
              "      <td>138</td>\n",
              "      <td>20</td>\n",
              "    </tr>\n",
              "  </tbody>\n",
              "</table>\n",
              "</div>\n",
              "      <button class=\"colab-df-convert\" onclick=\"convertToInteractive('df-c3b87040-d3b7-4bd9-a88c-61d7b4cf1c46')\"\n",
              "              title=\"Convert this dataframe to an interactive table.\"\n",
              "              style=\"display:none;\">\n",
              "        \n",
              "  <svg xmlns=\"http://www.w3.org/2000/svg\" height=\"24px\"viewBox=\"0 0 24 24\"\n",
              "       width=\"24px\">\n",
              "    <path d=\"M0 0h24v24H0V0z\" fill=\"none\"/>\n",
              "    <path d=\"M18.56 5.44l.94 2.06.94-2.06 2.06-.94-2.06-.94-.94-2.06-.94 2.06-2.06.94zm-11 1L8.5 8.5l.94-2.06 2.06-.94-2.06-.94L8.5 2.5l-.94 2.06-2.06.94zm10 10l.94 2.06.94-2.06 2.06-.94-2.06-.94-.94-2.06-.94 2.06-2.06.94z\"/><path d=\"M17.41 7.96l-1.37-1.37c-.4-.4-.92-.59-1.43-.59-.52 0-1.04.2-1.43.59L10.3 9.45l-7.72 7.72c-.78.78-.78 2.05 0 2.83L4 21.41c.39.39.9.59 1.41.59.51 0 1.02-.2 1.41-.59l7.78-7.78 2.81-2.81c.8-.78.8-2.07 0-2.86zM5.41 20L4 18.59l7.72-7.72 1.47 1.35L5.41 20z\"/>\n",
              "  </svg>\n",
              "      </button>\n",
              "      \n",
              "  <style>\n",
              "    .colab-df-container {\n",
              "      display:flex;\n",
              "      flex-wrap:wrap;\n",
              "      gap: 12px;\n",
              "    }\n",
              "\n",
              "    .colab-df-convert {\n",
              "      background-color: #E8F0FE;\n",
              "      border: none;\n",
              "      border-radius: 50%;\n",
              "      cursor: pointer;\n",
              "      display: none;\n",
              "      fill: #1967D2;\n",
              "      height: 32px;\n",
              "      padding: 0 0 0 0;\n",
              "      width: 32px;\n",
              "    }\n",
              "\n",
              "    .colab-df-convert:hover {\n",
              "      background-color: #E2EBFA;\n",
              "      box-shadow: 0px 1px 2px rgba(60, 64, 67, 0.3), 0px 1px 3px 1px rgba(60, 64, 67, 0.15);\n",
              "      fill: #174EA6;\n",
              "    }\n",
              "\n",
              "    [theme=dark] .colab-df-convert {\n",
              "      background-color: #3B4455;\n",
              "      fill: #D2E3FC;\n",
              "    }\n",
              "\n",
              "    [theme=dark] .colab-df-convert:hover {\n",
              "      background-color: #434B5C;\n",
              "      box-shadow: 0px 1px 3px 1px rgba(0, 0, 0, 0.15);\n",
              "      filter: drop-shadow(0px 1px 2px rgba(0, 0, 0, 0.3));\n",
              "      fill: #FFFFFF;\n",
              "    }\n",
              "  </style>\n",
              "\n",
              "      <script>\n",
              "        const buttonEl =\n",
              "          document.querySelector('#df-c3b87040-d3b7-4bd9-a88c-61d7b4cf1c46 button.colab-df-convert');\n",
              "        buttonEl.style.display =\n",
              "          google.colab.kernel.accessAllowed ? 'block' : 'none';\n",
              "\n",
              "        async function convertToInteractive(key) {\n",
              "          const element = document.querySelector('#df-c3b87040-d3b7-4bd9-a88c-61d7b4cf1c46');\n",
              "          const dataTable =\n",
              "            await google.colab.kernel.invokeFunction('convertToInteractive',\n",
              "                                                     [key], {});\n",
              "          if (!dataTable) return;\n",
              "\n",
              "          const docLinkHtml = 'Like what you see? Visit the ' +\n",
              "            '<a target=\"_blank\" href=https://colab.research.google.com/notebooks/data_table.ipynb>data table notebook</a>'\n",
              "            + ' to learn more about interactive tables.';\n",
              "          element.innerHTML = '';\n",
              "          dataTable['output_type'] = 'display_data';\n",
              "          await google.colab.output.renderOutput(dataTable, element);\n",
              "          const docLink = document.createElement('div');\n",
              "          docLink.innerHTML = docLinkHtml;\n",
              "          element.appendChild(docLink);\n",
              "        }\n",
              "      </script>\n",
              "    </div>\n",
              "  </div>\n",
              "  "
            ]
          },
          "metadata": {},
          "execution_count": 39
        }
      ]
    },
    {
      "cell_type": "code",
      "source": [
        "accuracy_report(y_test, pipe_informed.predict(X_test)) # much better  "
      ],
      "metadata": {
        "colab": {
          "base_uri": "https://localhost:8080/"
        },
        "id": "uT5wILdxbo6B",
        "outputId": "d2fb3a95-90b0-4378-b91b-6448e44ad5ee"
      },
      "execution_count": 40,
      "outputs": [
        {
          "output_type": "stream",
          "name": "stdout",
          "text": [
            "Accuracy:  0.944\n",
            "Recall:  0.316\n",
            "Precision:  0.926\n",
            "F1:  0.472\n"
          ]
        }
      ]
    },
    {
      "cell_type": "code",
      "source": [
        "pd.crosstab(y_test, pipe_informed.predict(X_test))"
      ],
      "metadata": {
        "colab": {
          "base_uri": "https://localhost:8080/",
          "height": 143
        },
        "id": "SI-bv8hLo2f2",
        "outputId": "7e227745-f4ad-43a5-f8ae-98362bea3ac9"
      },
      "execution_count": 41,
      "outputs": [
        {
          "output_type": "execute_result",
          "data": {
            "text/plain": [
              "col_0               0   1\n",
              "muslim_identity          \n",
              "0                1838   4\n",
              "1                 108  50"
            ],
            "text/html": [
              "\n",
              "  <div id=\"df-6587a92f-bc73-4843-9c8f-0e9a0bd7c3b1\">\n",
              "    <div class=\"colab-df-container\">\n",
              "      <div>\n",
              "<style scoped>\n",
              "    .dataframe tbody tr th:only-of-type {\n",
              "        vertical-align: middle;\n",
              "    }\n",
              "\n",
              "    .dataframe tbody tr th {\n",
              "        vertical-align: top;\n",
              "    }\n",
              "\n",
              "    .dataframe thead th {\n",
              "        text-align: right;\n",
              "    }\n",
              "</style>\n",
              "<table border=\"1\" class=\"dataframe\">\n",
              "  <thead>\n",
              "    <tr style=\"text-align: right;\">\n",
              "      <th>col_0</th>\n",
              "      <th>0</th>\n",
              "      <th>1</th>\n",
              "    </tr>\n",
              "    <tr>\n",
              "      <th>muslim_identity</th>\n",
              "      <th></th>\n",
              "      <th></th>\n",
              "    </tr>\n",
              "  </thead>\n",
              "  <tbody>\n",
              "    <tr>\n",
              "      <th>0</th>\n",
              "      <td>1838</td>\n",
              "      <td>4</td>\n",
              "    </tr>\n",
              "    <tr>\n",
              "      <th>1</th>\n",
              "      <td>108</td>\n",
              "      <td>50</td>\n",
              "    </tr>\n",
              "  </tbody>\n",
              "</table>\n",
              "</div>\n",
              "      <button class=\"colab-df-convert\" onclick=\"convertToInteractive('df-6587a92f-bc73-4843-9c8f-0e9a0bd7c3b1')\"\n",
              "              title=\"Convert this dataframe to an interactive table.\"\n",
              "              style=\"display:none;\">\n",
              "        \n",
              "  <svg xmlns=\"http://www.w3.org/2000/svg\" height=\"24px\"viewBox=\"0 0 24 24\"\n",
              "       width=\"24px\">\n",
              "    <path d=\"M0 0h24v24H0V0z\" fill=\"none\"/>\n",
              "    <path d=\"M18.56 5.44l.94 2.06.94-2.06 2.06-.94-2.06-.94-.94-2.06-.94 2.06-2.06.94zm-11 1L8.5 8.5l.94-2.06 2.06-.94-2.06-.94L8.5 2.5l-.94 2.06-2.06.94zm10 10l.94 2.06.94-2.06 2.06-.94-2.06-.94-.94-2.06-.94 2.06-2.06.94z\"/><path d=\"M17.41 7.96l-1.37-1.37c-.4-.4-.92-.59-1.43-.59-.52 0-1.04.2-1.43.59L10.3 9.45l-7.72 7.72c-.78.78-.78 2.05 0 2.83L4 21.41c.39.39.9.59 1.41.59.51 0 1.02-.2 1.41-.59l7.78-7.78 2.81-2.81c.8-.78.8-2.07 0-2.86zM5.41 20L4 18.59l7.72-7.72 1.47 1.35L5.41 20z\"/>\n",
              "  </svg>\n",
              "      </button>\n",
              "      \n",
              "  <style>\n",
              "    .colab-df-container {\n",
              "      display:flex;\n",
              "      flex-wrap:wrap;\n",
              "      gap: 12px;\n",
              "    }\n",
              "\n",
              "    .colab-df-convert {\n",
              "      background-color: #E8F0FE;\n",
              "      border: none;\n",
              "      border-radius: 50%;\n",
              "      cursor: pointer;\n",
              "      display: none;\n",
              "      fill: #1967D2;\n",
              "      height: 32px;\n",
              "      padding: 0 0 0 0;\n",
              "      width: 32px;\n",
              "    }\n",
              "\n",
              "    .colab-df-convert:hover {\n",
              "      background-color: #E2EBFA;\n",
              "      box-shadow: 0px 1px 2px rgba(60, 64, 67, 0.3), 0px 1px 3px 1px rgba(60, 64, 67, 0.15);\n",
              "      fill: #174EA6;\n",
              "    }\n",
              "\n",
              "    [theme=dark] .colab-df-convert {\n",
              "      background-color: #3B4455;\n",
              "      fill: #D2E3FC;\n",
              "    }\n",
              "\n",
              "    [theme=dark] .colab-df-convert:hover {\n",
              "      background-color: #434B5C;\n",
              "      box-shadow: 0px 1px 3px 1px rgba(0, 0, 0, 0.15);\n",
              "      filter: drop-shadow(0px 1px 2px rgba(0, 0, 0, 0.3));\n",
              "      fill: #FFFFFF;\n",
              "    }\n",
              "  </style>\n",
              "\n",
              "      <script>\n",
              "        const buttonEl =\n",
              "          document.querySelector('#df-6587a92f-bc73-4843-9c8f-0e9a0bd7c3b1 button.colab-df-convert');\n",
              "        buttonEl.style.display =\n",
              "          google.colab.kernel.accessAllowed ? 'block' : 'none';\n",
              "\n",
              "        async function convertToInteractive(key) {\n",
              "          const element = document.querySelector('#df-6587a92f-bc73-4843-9c8f-0e9a0bd7c3b1');\n",
              "          const dataTable =\n",
              "            await google.colab.kernel.invokeFunction('convertToInteractive',\n",
              "                                                     [key], {});\n",
              "          if (!dataTable) return;\n",
              "\n",
              "          const docLinkHtml = 'Like what you see? Visit the ' +\n",
              "            '<a target=\"_blank\" href=https://colab.research.google.com/notebooks/data_table.ipynb>data table notebook</a>'\n",
              "            + ' to learn more about interactive tables.';\n",
              "          element.innerHTML = '';\n",
              "          dataTable['output_type'] = 'display_data';\n",
              "          await google.colab.output.renderOutput(dataTable, element);\n",
              "          const docLink = document.createElement('div');\n",
              "          docLink.innerHTML = docLinkHtml;\n",
              "          element.appendChild(docLink);\n",
              "        }\n",
              "      </script>\n",
              "    </div>\n",
              "  </div>\n",
              "  "
            ]
          },
          "metadata": {},
          "execution_count": 41
        }
      ]
    },
    {
      "cell_type": "markdown",
      "source": [
        "This looks much better with our informed sample. While precision is only marginally lower, recall is much higher, resulting in an overall higher F1 score. Overall accuracy is even better.\n",
        "\n",
        "Clearly, stratified dictionary sampling can help reduce problems with imbalanced data. However, we don't need to stop here. The stratified sample could be enhanced with further under- and [oversampling](https://colab.research.google.com/github/nicolaiberk/Imbalanced/blob/master/02b_SMOTE_Solution.ipynb) or serve as input for an [active learning pipeline](https://colab.research.google.com/github/nicolaiberk/Imbalanced/blob/master/02c_ActiveLearning_Solution.ipynb)."
      ],
      "metadata": {
        "id": "_-cR4v87-9JP"
      }
    }
  ]
}